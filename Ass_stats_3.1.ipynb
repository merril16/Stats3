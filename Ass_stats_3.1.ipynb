{
 "cells": [
  {
   "cell_type": "code",
   "execution_count": 20,
   "metadata": {},
   "outputs": [],
   "source": [
    "import numpy as np\n",
    "import pandas as pd\n",
    "import math\n",
    "\n",
    "mu, sigma = 100,15\n",
    "\n",
    "# sample mean, no of samples\n",
    "mus=108\n",
    "n=36"
   ]
  },
  {
   "cell_type": "code",
   "execution_count": 21,
   "metadata": {},
   "outputs": [],
   "source": [
    "# 2 tailed test for the given problem\n",
    "\n",
    "#Strategies:(Z - test, Two- tailed)\n",
    "\n",
    "# 1. Define Null hypothesis i.e H0, Alternative Hypothesis  as H1 \n",
    "# 2. Lets chose value of Alpha() i.e. a level of significance\n",
    "# 3. Set Critical values i.e. evaluate Z-test value for population, given population standard deviation\n",
    "# 4. Calculate Z-test value for the sample given sample mean and no. of samples\n",
    "# 5. Draw conclusion\n",
    "\n",
    "# ** source** https://www.youtube.com/watch?v=0XXT3bIY_pw"
   ]
  },
  {
   "cell_type": "code",
   "execution_count": 22,
   "metadata": {},
   "outputs": [],
   "source": [
    "\n",
    "# H0=100 , H1 != 100\n",
    "\n",
    "# Let the level of significance be 0.05\n",
    "\n",
    "alpha= 0.05\n",
    "\n",
    "# Using Z-table for Critical Z Values \n",
    "\n",
    "Z=1.96\n",
    "\n",
    "#  Z Sample value is \n",
    "\n",
    "Zs= ((mus-mu))/((sigma/math.sqrt(n)))\n",
    "\n",
    "\n",
    "\n"
   ]
  },
  {
   "cell_type": "code",
   "execution_count": 23,
   "metadata": {},
   "outputs": [
    {
     "data": {
      "text/plain": [
       "3.2"
      ]
     },
     "execution_count": 23,
     "metadata": {},
     "output_type": "execute_result"
    }
   ],
   "source": [
    "Zs"
   ]
  },
  {
   "cell_type": "code",
   "execution_count": 24,
   "metadata": {},
   "outputs": [],
   "source": [
    "# Zs > Z\n",
    "# Since sample statistic Zs values is more than Critical Z value of the population, we can reject null hypothesis,\n",
    "\n"
   ]
  },
  {
   "cell_type": "markdown",
   "metadata": {},
   "source": [
    "## Hence the raw cornstarch research had an effect"
   ]
  },
  {
   "cell_type": "code",
   "execution_count": null,
   "metadata": {},
   "outputs": [],
   "source": []
  }
 ],
 "metadata": {
  "kernelspec": {
   "display_name": "Python 3",
   "language": "python",
   "name": "python3"
  },
  "language_info": {
   "codemirror_mode": {
    "name": "ipython",
    "version": 3
   },
   "file_extension": ".py",
   "mimetype": "text/x-python",
   "name": "python",
   "nbconvert_exporter": "python",
   "pygments_lexer": "ipython3",
   "version": "3.6.1"
  }
 },
 "nbformat": 4,
 "nbformat_minor": 2
}
