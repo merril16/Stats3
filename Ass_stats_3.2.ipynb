{
 "cells": [
  {
   "cell_type": "code",
   "execution_count": 23,
   "metadata": {},
   "outputs": [],
   "source": [
    "# source *  https://stattrek.com/statistics/problems.aspx     ...\n",
    "# ...           Acadgild session 18 ppt , page 9\n",
    "\n",
    "# Let P1 be mean of Republican voters in the first state, P2 = mean of Republican voters in the second state\n",
    "\n",
    "# mean difference of each sample  in each state is P1-P2\n",
    "\n",
    "# Standard error or standard deviation difference between 2 means is given by\n",
    "import math\n",
    "\n",
    "\n",
    "p1 =0.52\n",
    "p2 =0.47\n",
    "n1=100\n",
    "n2=100\n",
    "\n",
    "sigma_diff = math.sqrt( (P1*(1 - P1) / n1 ) + ( P2*(1 - P2) / n2 ) )"
   ]
  },
  {
   "cell_type": "code",
   "execution_count": 24,
   "metadata": {},
   "outputs": [
    {
     "data": {
      "text/plain": [
       "0.07061869440877536"
      ]
     },
     "execution_count": 24,
     "metadata": {},
     "output_type": "execute_result"
    }
   ],
   "source": [
    "sigma_diff"
   ]
  },
  {
   "cell_type": "code",
   "execution_count": 25,
   "metadata": {},
   "outputs": [],
   "source": [
    "#  to find the probability that the survey will show a greater percentage... \n",
    "#  ...            of Republican voters in the second state than in the first state\n",
    "\n",
    "#  i.e  problem requires us to find the probability that p1 is less than p2.\n",
    "\n",
    "#  This is equivalent to finding the probability that p1 - p2 is less than zero.\n",
    "\n",
    "#  To find this probability, we need to transform the random variable (p1 - p2) into a z-score. \n",
    "\n",
    "\n",
    "#That transformation appears below.\n",
    "\n",
    "\n",
    "\n",
    "#Z(p1 - p2) = (x - μ (p1 - p2 )) / sigma_diff\n",
    "\n",
    "x=0\n",
    "\n",
    "Z = (x-(p1-p2)/sigma_diff)\n"
   ]
  },
  {
   "cell_type": "code",
   "execution_count": 26,
   "metadata": {},
   "outputs": [
    {
     "data": {
      "text/plain": [
       "-0.7080278164104213"
      ]
     },
     "execution_count": 26,
     "metadata": {},
     "output_type": "execute_result"
    }
   ],
   "source": [
    "Z"
   ]
  },
  {
   "cell_type": "code",
   "execution_count": 27,
   "metadata": {},
   "outputs": [],
   "source": [
    "#Using Stat Trek's Normal Distribution Calculator, we find that the probability of a z-score being -0.7082 or less is 0.24.\n",
    "\n",
    "\n",
    "#Therefore, the probability that the survey will show a great...\n",
    "#              ...percentage of Republican voters in the second state than in the first state is 0.24.\n",
    "\n"
   ]
  },
  {
   "cell_type": "markdown",
   "metadata": {},
   "source": [
    "## Therefore, the probability that the survey will show a greater percentage of Republican voters in the second state than in the first state is   0.24."
   ]
  },
  {
   "cell_type": "code",
   "execution_count": null,
   "metadata": {},
   "outputs": [],
   "source": []
  }
 ],
 "metadata": {
  "kernelspec": {
   "display_name": "Python 3",
   "language": "python",
   "name": "python3"
  },
  "language_info": {
   "codemirror_mode": {
    "name": "ipython",
    "version": 3
   },
   "file_extension": ".py",
   "mimetype": "text/x-python",
   "name": "python",
   "nbconvert_exporter": "python",
   "pygments_lexer": "ipython3",
   "version": "3.6.1"
  }
 },
 "nbformat": 4,
 "nbformat_minor": 2
}
